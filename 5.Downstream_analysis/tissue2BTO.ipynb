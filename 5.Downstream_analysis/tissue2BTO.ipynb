{
 "cells": [
  {
   "cell_type": "code",
   "execution_count": 2,
   "metadata": {},
   "outputs": [],
   "source": [
    "import pandas as pd\n",
    "import requests"
   ]
  },
  {
   "cell_type": "code",
   "execution_count": 4,
   "metadata": {},
   "outputs": [],
   "source": [
    "df = pd.read_excel('Supplementary Table 1.xlsx')\n"
   ]
  },
  {
   "cell_type": "code",
   "execution_count": 11,
   "metadata": {},
   "outputs": [],
   "source": [
    "al_tissue = [i for i in df['Tissue']]"
   ]
  },
  {
   "cell_type": "code",
   "execution_count": 14,
   "metadata": {},
   "outputs": [
    {
     "data": {
      "text/plain": [
       "['Thyroid',\n",
       " 'Aorta',\n",
       " 'Esophagus',\n",
       " 'Muscle',\n",
       " 'Liver',\n",
       " 'Pancreas',\n",
       " 'Islets',\n",
       " 'Intestine',\n",
       " 'Ovary',\n",
       " 'Uterus',\n",
       " 'Vagina',\n",
       " 'Artery',\n",
       " 'Brain',\n",
       " 'Lung',\n",
       " 'Kidney',\n",
       " 'Stomach',\n",
       " 'Adipose',\n",
       " 'Skin',\n",
       " 'Tibial']"
      ]
     },
     "execution_count": 14,
     "metadata": {},
     "output_type": "execute_result"
    }
   ],
   "source": [
    "al_tissue[1].split(';')"
   ]
  },
  {
   "cell_type": "code",
   "execution_count": 15,
   "metadata": {},
   "outputs": [
    {
     "data": {
      "text/plain": [
       "['Heart']"
      ]
     },
     "execution_count": 15,
     "metadata": {},
     "output_type": "execute_result"
    }
   ],
   "source": [
    "al_tissue[0].split(';')"
   ]
  },
  {
   "cell_type": "code",
   "execution_count": 17,
   "metadata": {},
   "outputs": [
    {
     "data": {
      "text/plain": [
       "1"
      ]
     },
     "execution_count": 17,
     "metadata": {},
     "output_type": "execute_result"
    }
   ],
   "source": [
    "len(al_tissue[0].split(';'))"
   ]
  },
  {
   "cell_type": "code",
   "execution_count": 20,
   "metadata": {},
   "outputs": [],
   "source": [
    "all_tissue = []\n",
    "for i in df['Tissue']:\n",
    "    if len(i.split(';')) > 1:\n",
    "        new_i = i.split(';')\n",
    "        for j in new_i:\n",
    "            all_tissue.append(j)\n",
    "    else:\n",
    "        all_tissue.append(i)"
   ]
  },
  {
   "cell_type": "code",
   "execution_count": 22,
   "metadata": {},
   "outputs": [
    {
     "data": {
      "text/plain": [
       "{'Adipose',\n",
       " 'Adrenal',\n",
       " 'Aorta',\n",
       " 'Artery',\n",
       " 'Bone marrow',\n",
       " 'Brain',\n",
       " 'Esophagus',\n",
       " 'Eye',\n",
       " 'Gonad',\n",
       " 'Heart',\n",
       " 'Intestine',\n",
       " 'Islets',\n",
       " 'Kidney',\n",
       " 'Liver',\n",
       " 'Lung',\n",
       " 'Muscle',\n",
       " 'Ovary',\n",
       " 'PBMC',\n",
       " 'Pancreas',\n",
       " 'Placenta',\n",
       " 'Skin',\n",
       " 'Spleen',\n",
       " 'Stomach',\n",
       " 'Thymus',\n",
       " 'Thyroid',\n",
       " 'Tibial',\n",
       " 'Uterus',\n",
       " 'Vagina'}"
      ]
     },
     "execution_count": 22,
     "metadata": {},
     "output_type": "execute_result"
    }
   ],
   "source": [
    "set(all_tissue)"
   ]
  },
  {
   "cell_type": "code",
   "execution_count": null,
   "metadata": {},
   "outputs": [],
   "source": [
    "ontology_mapping = {\n",
    "    \"Adipose\": \"BTO:0000008\",\n",
    "    \"Adrenal\": \"BTO:0000037\",\n",
    "    \"Aorta\": \"BTO:0000047\",\n",
    "    \"Artery\": \"BTO:0001064\",\n",
    "    \"Bone marrow\": \"BTO:0000048\",\n",
    "    \"Brain\": \"BTO:0000142\",\n",
    "    \"Esophagus\": \"BTO:0000383\",\n",
    "    \"Eye\": \"BTO:0000110\",\n",
    "    \"Gonad\": \"BTO:0000149\",\n",
    "    \"Heart\": \"BTO:0001061\",\n",
    "    \"Intestine\": \"BTO:0000651\",\n",
    "    \"Islets\": \"BTO:0000731\",\n",
    "    \"Kidney\": \"BTO:0000671\",\n",
    "    \"Liver\": \"BTO:0000759\",\n",
    "    \"Lung\": \"BTO:0000659\",\n",
    "    \"Muscle\": \"BTO:0001103\",\n",
    "    \"Ovary\": \"BTO:0000992\",\n",
    "    \"PBMC\": \"BTO:0002025\",\n",
    "    \"Pancreas\": \"BTO:0000960\",\n",
    "    \"Placenta\": \"BTO:0001042\",\n",
    "    \"Skin\": \"BTO:0000486\",\n",
    "    \"Spleen\": \"BTO:0001280\",\n",
    "    \"Stomach\": \"BTO:0001379\",\n",
    "    \"Thymus\": \"BTO:0001384\",\n",
    "    \"Thyroid\": \"BTO:0001410\",\n",
    "    \"Tibial\": \"BTO:0004692\",\n",
    "    \"Uterus\": \"BTO:0001194\",\n",
    "    \"Vagina\": \"BTO:0001195\"\n",
    "}"
   ]
  }
 ],
 "metadata": {
  "kernelspec": {
   "display_name": "Python 3",
   "language": "python",
   "name": "python3"
  },
  "language_info": {
   "codemirror_mode": {
    "name": "ipython",
    "version": 3
   },
   "file_extension": ".py",
   "mimetype": "text/x-python",
   "name": "python",
   "nbconvert_exporter": "python",
   "pygments_lexer": "ipython3",
   "version": "3.10.14"
  }
 },
 "nbformat": 4,
 "nbformat_minor": 2
}
