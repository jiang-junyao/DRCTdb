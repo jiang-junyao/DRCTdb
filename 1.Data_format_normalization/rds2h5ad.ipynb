{
 "cells": [
  {
   "cell_type": "code",
   "execution_count": 1,
   "metadata": {},
   "outputs": [],
   "source": [
    "import scanpy as sc"
   ]
  },
  {
   "cell_type": "code",
   "execution_count": 2,
   "metadata": {},
   "outputs": [],
   "source": [
    "sample1 = sc.read_h5ad('../../data/scATAC-seq/Sample1/Rds/sample1_scATAC-seq_80k_processed.h5ad')"
   ]
  },
  {
   "cell_type": "code",
   "execution_count": 15,
   "metadata": {},
   "outputs": [
    {
     "name": "stdout",
     "output_type": "stream",
     "text": [
      "AnnData object with n_obs × n_vars = 80015 × 500779\n",
      "    obs: 'Cluster', 'UMAP1', 'UMAP2', 'TSSe', 'Num_fragments', 'Doublet_score', 'Fraction_Mito', 'Fraction_duplication', 'nCount_peaks', 'nFeature_peaks', 'cell_type'\n",
      "    var: 'name'\n"
     ]
    },
    {
     "data": {
      "text/plain": [
       "10"
      ]
     },
     "execution_count": 15,
     "metadata": {},
     "output_type": "execute_result"
    }
   ],
   "source": [
    "print(sample1)\n",
    "len(sample1.obs['cell_type'].value_counts())"
   ]
  },
  {
   "cell_type": "code",
   "execution_count": 3,
   "metadata": {},
   "outputs": [],
   "source": [
    "sample4 = sc.read_h5ad('../../data/scATAC-seq/Sample4/sample4_scATAC-seq_30k_processed.h5ad')"
   ]
  },
  {
   "cell_type": "code",
   "execution_count": 14,
   "metadata": {},
   "outputs": [
    {
     "name": "stdout",
     "output_type": "stream",
     "text": [
      "AnnData object with n_obs × n_vars = 30168 × 214952\n",
      "    obs: 'orig.ident', 'nCount_peaks', 'nFeature_peaks', 'BlacklistRatio', 'nDiFrags', 'nFrags', 'nMonoFrags', 'nMultiFrags', 'NucleosomeRatio', 'PromoterRatio', 'ReadsInBlacklist', 'ReadsInPromoter', 'ReadsInTSS', 'Sample', 'TSSEnrichment', 'Clusters', 'ReadsInPeaks', 'FRIP', 'Sample1', 'Clusters1', 'Clusters2', 'predictedCell_new', 'predictedGroup_new', 'predictedScore_new', 'Celltype', 'cell_type'\n",
      "    var: 'name'\n"
     ]
    },
    {
     "data": {
      "text/plain": [
       "20"
      ]
     },
     "execution_count": 14,
     "metadata": {},
     "output_type": "execute_result"
    }
   ],
   "source": [
    "print(sample4)\n",
    "len(sample4.obs['cell_type'].value_counts())"
   ]
  },
  {
   "cell_type": "code",
   "execution_count": 17,
   "metadata": {},
   "outputs": [],
   "source": [
    "sample7 = sc.read_h5ad('../../data/scATAC-seq/Sample7/sample7_scATAC-seq_50k_processed.h5ad')"
   ]
  },
  {
   "cell_type": "code",
   "execution_count": 18,
   "metadata": {},
   "outputs": [
    {
     "name": "stdout",
     "output_type": "stream",
     "text": [
      "AnnData object with n_obs × n_vars = 50969 × 519257\n",
      "    obs: 'BlacklistRatio', 'nDiFrags', 'nFrags', 'nMonoFrags', 'nMultiFrags', 'NucleosomeRatio', 'PromoterRatio', 'ReadsInBlacklist', 'ReadsInPromoter', 'ReadsInTSS', 'Sample', 'TSSEnrichment', 'Clusters', 'ReadsInPeaks', 'FRIP', 'cell_type', 'nCount_peaks', 'nFeature_peaks'\n",
      "    var: 'name'\n"
     ]
    },
    {
     "data": {
      "text/plain": [
       "13"
      ]
     },
     "execution_count": 18,
     "metadata": {},
     "output_type": "execute_result"
    }
   ],
   "source": [
    "print(sample7)\n",
    "len(sample7.obs['cell_type'].value_counts())"
   ]
  },
  {
   "cell_type": "code",
   "execution_count": 19,
   "metadata": {},
   "outputs": [],
   "source": [
    "sample8 = sc.read_h5ad('../../data/scATAC-seq/Sample8/sample8_scATAC-seq_100k_processed.h5ad')"
   ]
  },
  {
   "cell_type": "code",
   "execution_count": 20,
   "metadata": {},
   "outputs": [
    {
     "name": "stdout",
     "output_type": "stream",
     "text": [
      "AnnData object with n_obs × n_vars = 99102 × 255844\n",
      "    obs: 'orig.ident', 'BlacklistRatio', 'nDiFrags', 'nFrags', 'nMonoFrags', 'nMultiFrags', 'NucleosomeRatio', 'PromoterRatio', 'ReadsInBlacklist', 'ReadsInPromoter', 'ReadsInTSS', 'Sample', 'TSSEnrichment', 'Clusters', 'ReadsInPeaks', 'FRIP', 'cell_type', 'nCount_peaks', 'nFeature_peaks'\n",
      "    var: 'name'\n"
     ]
    },
    {
     "data": {
      "text/plain": [
       "20"
      ]
     },
     "execution_count": 20,
     "metadata": {},
     "output_type": "execute_result"
    }
   ],
   "source": [
    "print(sample8)\n",
    "len(sample8.obs['cell_type'].value_counts())"
   ]
  },
  {
   "cell_type": "code",
   "execution_count": 21,
   "metadata": {},
   "outputs": [],
   "source": [
    "sample10 = sc.read_h5ad('../../data/scATAC-seq/Sample10/sample10_scATAC-seq_950k_processed.h5ad')"
   ]
  },
  {
   "cell_type": "code",
   "execution_count": 22,
   "metadata": {},
   "outputs": [
    {
     "name": "stdout",
     "output_type": "stream",
     "text": [
      "AnnData object with n_obs × n_vars = 94899 × 375253\n",
      "    obs: 'BlacklistRatio', 'nDiFrags', 'nFrags', 'nMonoFrags', 'nMultiFrags', 'NucleosomeRatio', 'PromoterRatio', 'ReadsInBlacklist', 'ReadsInPromoter', 'ReadsInTSS', 'Sample', 'TSSEnrichment', 'Clusters', 'ReadsInPeaks', 'FRIP', 'cell_type', 'nCount_peaks', 'nFeature_peaks'\n",
      "    var: 'name'\n"
     ]
    },
    {
     "data": {
      "text/plain": [
       "66"
      ]
     },
     "execution_count": 22,
     "metadata": {},
     "output_type": "execute_result"
    }
   ],
   "source": [
    "print(sample10)\n",
    "len(sample10.obs['cell_type'].value_counts())"
   ]
  },
  {
   "cell_type": "code",
   "execution_count": 24,
   "metadata": {},
   "outputs": [],
   "source": [
    "sample11 = sc.read_h5ad('../../data/scATAC-seq/Sample11/sample11_scATAC-seq_17k_processed.h5ad')"
   ]
  },
  {
   "cell_type": "code",
   "execution_count": 25,
   "metadata": {},
   "outputs": [
    {
     "name": "stdout",
     "output_type": "stream",
     "text": [
      "AnnData object with n_obs × n_vars = 17105 × 114727\n",
      "    obs: 'orig.ident', 'BlacklistRatio', 'nDiFrags', 'nFrags', 'nMonoFrags', 'nMultiFrags', 'NucleosomeRatio', 'PromoterRatio', 'ReadsInBlacklist', 'ReadsInPromoter', 'ReadsInTSS', 'Sample', 'TSSEnrichment', 'Clusters', 'ReadsInPeaks', 'FRIP', 'barcode', 'raw_barcode', 'UMAP1', 'UMAP2', 'Condition', 'pairedLabel', 'pairedLabel2', 'IFN_nnTime', 'LPS_nnTime', 'PMA_nnTime', 'cell_type', 'nCount_peaks', 'nFeature_peaks'\n",
      "    var: 'name'\n"
     ]
    },
    {
     "data": {
      "text/plain": [
       "18"
      ]
     },
     "execution_count": 25,
     "metadata": {},
     "output_type": "execute_result"
    }
   ],
   "source": [
    "print(sample11)\n",
    "len(sample11.obs['cell_type'].value_counts())"
   ]
  },
  {
   "cell_type": "code",
   "execution_count": 27,
   "metadata": {},
   "outputs": [],
   "source": [
    "sample12 = sc.read_h5ad('../../data/scATAC-seq/Sample12/sample12_scATAC-seq_104k_processed.h5ad')"
   ]
  },
  {
   "cell_type": "code",
   "execution_count": 28,
   "metadata": {},
   "outputs": [
    {
     "name": "stdout",
     "output_type": "stream",
     "text": [
      "AnnData object with n_obs × n_vars = 104809 × 186433\n",
      "    obs: 'library', 'nCount_RNA', 'nFeature_RNA', 'nCount_ATAC', 'nFeature_ATAC', 'TSS.enrichment', 'TSS.percentile', 'nucleosome_signal', 'nucleosome_percentile', 'blacklist_fraction', 'nCount_Activity', 'nFeature_Activity', 'scrublet', 'doublet.detection', 'experiment', 'experiment.short', 'specimen', 'patient', 'region.l1', 'region.l2', 'region.l3', 'percent.cortex', 'percent.medulla', 'sex', 'race', 'tissue_type', 'predicted.class.score', 'predicted.class', 'predicted.subclass.l1.score', 'predicted.subclass.l1', 'predicted.clusters.score', 'predicted.clusters', 'pagoda_k100_infomap_coembed', 'pagoda_k200_infomap_coembed', 'clusters', 'subclass.full', 'subclass.l3', 'subclass.l2', 'subclass.l1', 'state.l2', 'state.l1', 'class', 'structure', 'RNA.weight', 'ATAC.weight', 'nCount_peaks', 'nFeature_peaks', 'cell_type'\n",
      "    var: 'name'\n"
     ]
    },
    {
     "data": {
      "text/plain": [
       "58"
      ]
     },
     "execution_count": 28,
     "metadata": {},
     "output_type": "execute_result"
    }
   ],
   "source": [
    "print(sample12)\n",
    "len(sample12.obs['cell_type'].value_counts())"
   ]
  },
  {
   "cell_type": "code",
   "execution_count": 31,
   "metadata": {},
   "outputs": [],
   "source": [
    "sample13 = sc.read_h5ad('../../data/scATAC-seq/Sample13/sample13_scATAC-seq_4k_processed.h5ad')"
   ]
  },
  {
   "cell_type": "code",
   "execution_count": 33,
   "metadata": {},
   "outputs": [
    {
     "name": "stdout",
     "output_type": "stream",
     "text": [
      "AnnData object with n_obs × n_vars = 3611 × 151980\n",
      "    obs: 'nCount_peaks', 'nFeature_peaks', 'ID', 'path', 'batch', 'initial', 'rmDup', 'duplication_rate', 'SANGER.PLATE.ID', 'WELL', 'SUPPLIER.SAMPLE.NAME', 'SAMPLE', 'i7.TAG.SEQUENCE', 'i5.TAG.SEQUENCE', 'PHENOTYPE..required.for.EGA.', 'DONOR.ID..required.for.cancer.samples.', 'origin', 'nCount_bins', 'nFeature_bins', 'FRiP', 'blacklist_ratio', 'nucleosome_signal', 'nucleosome_percentile', 'TSS.enrichment', 'peaks_snn_res.1', 'seurat_clusters', 'peaks_snn_res.0.5', 'nCount_RNA', 'nFeature_RNA', 'nCount_RNA_promoter', 'nFeature_RNA_promoter', 'nCount_RNA_geneprom_5kb', 'nFeature_RNA_geneprom_5kb', 'rn', 'predicted.id', 'prediction.score.Prog', 'prediction.score.MPP', 'prediction.score.MPP.Cycling', 'prediction.score.Comm.Prog', 'prediction.score.Comm.Prog.Cycling', 'prediction.score.Granulocyte.Prog', 'prediction.score.max', 'cell_type'\n",
      "    var: 'name'\n"
     ]
    },
    {
     "data": {
      "text/plain": [
       "7"
      ]
     },
     "execution_count": 33,
     "metadata": {},
     "output_type": "execute_result"
    }
   ],
   "source": [
    "print(sample13)\n",
    "len(sample13.obs['cell_type'].value_counts())"
   ]
  },
  {
   "cell_type": "code",
   "execution_count": 29,
   "metadata": {},
   "outputs": [],
   "source": [
    "sample14 = sc.read_h5ad('../../data/scATAC-seq/Sample14/sample14_scATAC-seq_95k_processed.h5ad')"
   ]
  },
  {
   "cell_type": "code",
   "execution_count": 30,
   "metadata": {},
   "outputs": [
    {
     "name": "stdout",
     "output_type": "stream",
     "text": [
      "AnnData object with n_obs × n_vars = 95033 × 624806\n",
      "    obs: 'orig.ident', 'nCount_peaks', 'nFeature_peaks', 'barcode', 'cell_type'\n",
      "    var: 'count', 'percentile'\n"
     ]
    },
    {
     "data": {
      "text/plain": [
       "15"
      ]
     },
     "execution_count": 30,
     "metadata": {},
     "output_type": "execute_result"
    }
   ],
   "source": [
    "print(sample14)\n",
    "len(sample14.obs['cell_type'].value_counts())"
   ]
  },
  {
   "cell_type": "code",
   "execution_count": 34,
   "metadata": {},
   "outputs": [],
   "source": [
    "sample16 = sc.read_h5ad('../../data/scATAC-seq/Sample16/sample16_scATAC-seq_35k_processed.h5ad')"
   ]
  },
  {
   "cell_type": "code",
   "execution_count": 35,
   "metadata": {},
   "outputs": [
    {
     "name": "stdout",
     "output_type": "stream",
     "text": [
      "AnnData object with n_obs × n_vars = 35038 × 451879\n",
      "    obs: 'orig.ident', 'nCount_peaks', 'nFeature_peaks', 'FRIP', 'TotalReads', 'Group', 'Barcode', 'initialClusters', 'UMAP1', 'UMAP2', 'Clusters', 'BioClassification', 'cell_type'\n",
      "    var: 'name'\n"
     ]
    },
    {
     "data": {
      "text/plain": [
       "21"
      ]
     },
     "execution_count": 35,
     "metadata": {},
     "output_type": "execute_result"
    }
   ],
   "source": [
    "print(sample16)\n",
    "len(sample16.obs['cell_type'].value_counts())"
   ]
  },
  {
   "cell_type": "code",
   "execution_count": 36,
   "metadata": {},
   "outputs": [],
   "source": [
    "sample23 = sc.read_h5ad('../../data/scATAC-seq/Sample23/sample23_scATAC-seq_95k_processed.h5ad')"
   ]
  },
  {
   "cell_type": "code",
   "execution_count": 37,
   "metadata": {},
   "outputs": [
    {
     "name": "stdout",
     "output_type": "stream",
     "text": [
      "AnnData object with n_obs × n_vars = 95109 × 350050\n",
      "    obs: 'orig.ident', 'nCount_RNA', 'nFeature_RNA', 'percent.mt', 'RNA_snn_res.0.3', 'seurat_clusters', 'cell_type', 'sub.cluster', 'nCount_ATAC', 'nFeature_ATAC', 'nCount_peaks', 'nFeature_peaks'\n",
      "    var: 'name'\n"
     ]
    },
    {
     "data": {
      "text/plain": [
       "9"
      ]
     },
     "execution_count": 37,
     "metadata": {},
     "output_type": "execute_result"
    }
   ],
   "source": [
    "print(sample23)\n",
    "len(sample23.obs['cell_type'].value_counts())"
   ]
  },
  {
   "cell_type": "code",
   "execution_count": 38,
   "metadata": {},
   "outputs": [],
   "source": [
    "sample24 = sc.read_h5ad('../../data/scATAC-seq/Sample24/sample24_scATAC-seq_52k_processed.h5ad')"
   ]
  },
  {
   "cell_type": "code",
   "execution_count": 39,
   "metadata": {},
   "outputs": [
    {
     "name": "stdout",
     "output_type": "stream",
     "text": [
      "AnnData object with n_obs × n_vars = 52766 × 796484\n",
      "    obs: 'nCount_peaks', 'nFeature_peaks', 'BlacklistRatio', 'Gex_MitoRatio', 'Gex_nGenes', 'Gex_nUMI', 'Gex_RiboRatio', 'nDiFrags', 'nFrags', 'nMonoFrags', 'nMultiFrags', 'NucleosomeRatio', 'PromoterRatio', 'ReadsInBlacklist', 'ReadsInPromoter', 'ReadsInTSS', 'TSSEnrichment', 'nCount_RNA', 'nFeature_RNA', 'percent.mt', 'nCount_ATAC', 'nFeature_ATAC', 'nucleosome_signal', 'nucleosome_percentile', 'TSS.enrichment', 'TSS.percentile', 'blacklist_fraction', 'id', 'Age', 'Sex', 'Sub.batch', 'dbl', 'SCT.weight', 'ATAC.weight', 'seurat_clusters', 'predicted.id', 'predicted.id.score', 'Repository', 'APOE_Status', 'PMI..h.', 'RIN', 'structure', 'subs', 'barcode', 'celltype', 'cell_type', 'ReadsInPeaks', 'FRIP'\n",
      "    var: 'count', 'percentile'\n"
     ]
    },
    {
     "data": {
      "text/plain": [
       "36"
      ]
     },
     "execution_count": 39,
     "metadata": {},
     "output_type": "execute_result"
    }
   ],
   "source": [
    "print(sample24)\n",
    "len(sample24.obs['cell_type'].value_counts())"
   ]
  },
  {
   "cell_type": "code",
   "execution_count": 2,
   "metadata": {},
   "outputs": [],
   "source": [
    "sample26  = sc.read_h5ad('../../data/scATAC-seq/Sample26/Sample26_scATAC-seq_229k_processed.h5ad')"
   ]
  },
  {
   "cell_type": "code",
   "execution_count": 3,
   "metadata": {},
   "outputs": [
    {
     "name": "stdout",
     "output_type": "stream",
     "text": [
      "AnnData object with n_obs × n_vars = 229783 × 731615\n",
      "    obs: 'orig.ident', 'BlacklistRatio', 'DoubletEnrichment', 'DoubletScore', 'nDiFrags', 'nFrags', 'nMonoFrags', 'nMultiFrags', 'NucleosomeRatio', 'PromoterRatio', 'ReadsInBlacklist', 'ReadsInPromoter', 'ReadsInTSS', 'Sample', 'TSSEnrichment', 'annotated_cluster', 'Group', 'Internal_Name', 'ReadsInPeaks', 'FRIP', 'cell_type', 'nCount_peaks', 'nFeature_peaks'\n",
      "    var: 'name'\n"
     ]
    },
    {
     "data": {
      "text/plain": [
       "87"
      ]
     },
     "execution_count": 3,
     "metadata": {},
     "output_type": "execute_result"
    }
   ],
   "source": [
    "print(sample26)\n",
    "len(sample26.obs['cell_type'].value_counts())"
   ]
  },
  {
   "cell_type": "code",
   "execution_count": 6,
   "metadata": {},
   "outputs": [],
   "source": [
    "sample27  = sc.read_h5ad('../../data/scATAC-seq/Sample27/Sample27_scATAC-seq_133k_processed.h5ad')"
   ]
  },
  {
   "cell_type": "code",
   "execution_count": 7,
   "metadata": {},
   "outputs": [
    {
     "name": "stdout",
     "output_type": "stream",
     "text": [
      "AnnData object with n_obs × n_vars = 133627 × 778363\n",
      "    obs: 'orig.ident', 'nCount_peaks', 'nFeature_peaks', 'BlacklistRatio', 'DoubletEnrichment', 'DoubletScore', 'nDiFrags', 'nFrags', 'nMonoFrags', 'nMultiFrags', 'NucleosomeRatio', 'PromoterRatio', 'ReadsInBlacklist', 'ReadsInPromoter', 'ReadsInTSS', 'Sample', 'TSSEnrichment', 'cell_type', 'ReadsInPeaks', 'FRIP'\n",
      "    var: 'name'\n"
     ]
    },
    {
     "data": {
      "text/plain": [
       "53"
      ]
     },
     "execution_count": 7,
     "metadata": {},
     "output_type": "execute_result"
    }
   ],
   "source": [
    "print(sample27)\n",
    "len(sample27.obs['cell_type'].value_counts())"
   ]
  },
  {
   "cell_type": "code",
   "execution_count": 8,
   "metadata": {},
   "outputs": [],
   "source": [
    "sample3 = sc.read_h5ad('../../data/scATAC-seq/Sample3/sample3_scATAC-seq_756k_processed.h5ad')"
   ]
  },
  {
   "cell_type": "code",
   "execution_count": 9,
   "metadata": {},
   "outputs": [
    {
     "name": "stdout",
     "output_type": "stream",
     "text": [
      "AnnData object with n_obs × n_vars = 756720 × 716646\n",
      "    obs: 'orig.ident', 'nCount_peaks', 'nFeature_peaks', 'BlacklistRatio', 'nDiFrags', 'nFrags', 'nMonoFrags', 'nMultiFrags', 'NucleosomeRatio', 'PromoterRatio', 'ReadsInBlacklist', 'ReadsInPromoter', 'ReadsInTSS', 'Sample', 'TSSEnrichment', 'ReadsInPeaks', 'FRIP', 'cell_type'\n",
      "    var: 'name'\n"
     ]
    },
    {
     "data": {
      "text/plain": [
       "92"
      ]
     },
     "execution_count": 9,
     "metadata": {},
     "output_type": "execute_result"
    }
   ],
   "source": [
    "print(sample3)\n",
    "len(sample3.obs['cell_type'].value_counts())"
   ]
  },
  {
   "cell_type": "code",
   "execution_count": 10,
   "metadata": {},
   "outputs": [],
   "source": [
    "sample5 = sc.read_h5ad('../../data/h5ad/sample5_scATAC-seq_720k_processed.h5ad')"
   ]
  },
  {
   "cell_type": "code",
   "execution_count": 11,
   "metadata": {},
   "outputs": [
    {
     "name": "stdout",
     "output_type": "stream",
     "text": [
      "AnnData object with n_obs × n_vars = 720613 × 1050819\n",
      "    obs: 'nCount_RNA', 'nFeature_RNA', 'cell', 'total', 'total_deduplicated', 'total_deduplicated_peaks', 'total_deduplicated_tss', 'frip', 'frit', 'x_chrom_window_counts', 'y_chrom_window_counts', 'autosome_window_counts', 'blacklist_fraction', 'RNA_snn_res.0.3', 'seurat_clusters', 'nCount_peaks', 'nFeature_peaks', 'tissue_umap_1', 'tissue_umap_2', 'cell_type'\n",
      "    obsm: 'X_pca', 'X_pca.l2', 'X_pca.l2.harmony', 'X_tsne', 'X_umap'\n"
     ]
    },
    {
     "data": {
      "text/plain": [
       "78"
      ]
     },
     "execution_count": 11,
     "metadata": {},
     "output_type": "execute_result"
    }
   ],
   "source": [
    "print(sample5)\n",
    "len(sample5.obs['cell_type'].value_counts())"
   ]
  }
 ],
 "metadata": {
  "kernelspec": {
   "display_name": "scvi",
   "language": "python",
   "name": "python3"
  },
  "language_info": {
   "codemirror_mode": {
    "name": "ipython",
    "version": 3
   },
   "file_extension": ".py",
   "mimetype": "text/x-python",
   "name": "python",
   "nbconvert_exporter": "python",
   "pygments_lexer": "ipython3",
   "version": "0.0.0"
  },
  "orig_nbformat": 4
 },
 "nbformat": 4,
 "nbformat_minor": 2
}
