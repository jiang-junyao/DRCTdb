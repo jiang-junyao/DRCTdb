{
 "cells": [
  {
   "cell_type": "code",
   "execution_count": 1,
   "metadata": {},
   "outputs": [],
   "source": [
    "import scanpy as sc\n",
    "import numpy as np\n",
    "import pandas as pd\n",
    "import scipy.io as sio\n",
    "import scipy.sparse as sparse\n",
    "import sys \n",
    "import os"
   ]
  },
  {
   "cell_type": "code",
   "execution_count": 2,
   "metadata": {},
   "outputs": [],
   "source": [
    "def convert(filename,anndata):\n",
    "    if not os.path.lexists(filename):\n",
    "        os.makedirs(filename)\n",
    "    #Create dir\n",
    "    h5ad_file = anndata\n",
    "    h5ad_file.obs.to_csv(f'./{filename}/{filename}_metadata.txt.gz', compression='gzip',sep='\\t', index=True)\n",
    "    #write metadata\n",
    "    sio.mmwrite(f'./{filename}/{filename}.mtx',sparse.csr_matrix(h5ad_file.X.T))\n",
    "    #write sparce matrix\n",
    "    h5ad_file.var.to_csv(f'./{filename}/{filename}_features.txt.gz',compression='gzip',sep='\\t')\n",
    "    #write features \n",
    "    #gzip files\n",
    "    print('Converted finish')"
   ]
  },
  {
   "cell_type": "code",
   "execution_count": 2,
   "metadata": {},
   "outputs": [],
   "source": [
    "islet_scRNA = sc.read_h5ad('../../data/scRNA-seq/Sample22/GSE202497_final_cluster.h5ad')"
   ]
  },
  {
   "cell_type": "code",
   "execution_count": 6,
   "metadata": {},
   "outputs": [],
   "source": [
    "islet_scRNA.obs.to_csv(f'./scRNA-seq/sample22_metadata.txt.gz', compression='gzip',sep='\\t', index=True)"
   ]
  },
  {
   "cell_type": "code",
   "execution_count": null,
   "metadata": {},
   "outputs": [],
   "source": [
    "islet_scATAC = sc.read_h5ad('../../data/scATAC-seq/Sample22/GSE202498_final_cluster.h5ad')"
   ]
  },
  {
   "cell_type": "code",
   "execution_count": 5,
   "metadata": {},
   "outputs": [
    {
     "ename": "NameError",
     "evalue": "name 'islet_scRNA' is not defined",
     "output_type": "error",
     "traceback": [
      "\u001b[1;31m---------------------------------------------------------------------------\u001b[0m",
      "\u001b[1;31mNameError\u001b[0m                                 Traceback (most recent call last)",
      "Cell \u001b[1;32mIn[5], line 1\u001b[0m\n\u001b[1;32m----> 1\u001b[0m islet_scRNA\u001b[39m.\u001b[39mobs\u001b[39m.\u001b[39mto_csv(\u001b[39mf\u001b[39m\u001b[39m'\u001b[39m\u001b[39msample22_metadata.txt.gz\u001b[39m\u001b[39m'\u001b[39m, compression\u001b[39m=\u001b[39m\u001b[39m'\u001b[39m\u001b[39mgzip\u001b[39m\u001b[39m'\u001b[39m,sep\u001b[39m=\u001b[39m\u001b[39m'\u001b[39m\u001b[39m\\t\u001b[39;00m\u001b[39m'\u001b[39m, index\u001b[39m=\u001b[39m\u001b[39mTrue\u001b[39;00m)\n",
      "\u001b[1;31mNameError\u001b[0m: name 'islet_scRNA' is not defined"
     ]
    }
   ],
   "source": [
    "islet_scATAC.obs.to_csv(f'sample22_metadata.txt.gz', compression='gzip',sep='\\t', index=True)"
   ]
  },
  {
   "cell_type": "code",
   "execution_count": 8,
   "metadata": {},
   "outputs": [
    {
     "name": "stdout",
     "output_type": "stream",
     "text": [
      "Converted finish\n"
     ]
    }
   ],
   "source": [
    "\n",
    "convert('sample21_islet',islet)"
   ]
  }
 ],
 "metadata": {
  "kernelspec": {
   "display_name": "scvi-env",
   "language": "python",
   "name": "python3"
  },
  "language_info": {
   "codemirror_mode": {
    "name": "ipython",
    "version": 3
   },
   "file_extension": ".py",
   "mimetype": "text/x-python",
   "name": "python",
   "nbconvert_exporter": "python",
   "pygments_lexer": "ipython3",
   "version": "3.9.16"
  },
  "orig_nbformat": 4
 },
 "nbformat": 4,
 "nbformat_minor": 2
}
